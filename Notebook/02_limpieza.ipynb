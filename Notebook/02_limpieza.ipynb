{
 "cells": [
  {
   "cell_type": "markdown",
   "id": "7b844495",
   "metadata": {},
   "source": [
    "# Cosas a limpiar\n",
    "\n",
    "- **SessionDate** -> Cambiar a tipo fecha\n"
   ]
  }
 ],
 "metadata": {
  "language_info": {
   "name": "python"
  }
 },
 "nbformat": 4,
 "nbformat_minor": 5
}
