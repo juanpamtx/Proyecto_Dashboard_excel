{
 "cells": [
  {
   "cell_type": "code",
   "execution_count": 3,
   "id": "57f04453",
   "metadata": {},
   "outputs": [],
   "source": [
    "import pandas as pd"
   ]
  },
  {
   "cell_type": "code",
   "execution_count": 6,
   "id": "5913e650",
   "metadata": {},
   "outputs": [],
   "source": [
    "df = pd.read_csv('../data/ai_assistant_usage_student_life_inicio.csv') "
   ]
  },
  {
   "cell_type": "code",
   "execution_count": 8,
   "id": "cc4c023e",
   "metadata": {},
   "outputs": [
    {
     "data": {
      "text/html": [
       "<div>\n",
       "<style scoped>\n",
       "    .dataframe tbody tr th:only-of-type {\n",
       "        vertical-align: middle;\n",
       "    }\n",
       "\n",
       "    .dataframe tbody tr th {\n",
       "        vertical-align: top;\n",
       "    }\n",
       "\n",
       "    .dataframe thead th {\n",
       "        text-align: right;\n",
       "    }\n",
       "</style>\n",
       "<table border=\"1\" class=\"dataframe\">\n",
       "  <thead>\n",
       "    <tr style=\"text-align: right;\">\n",
       "      <th></th>\n",
       "      <th>SessionID</th>\n",
       "      <th>StudentLevel</th>\n",
       "      <th>Discipline</th>\n",
       "      <th>SessionDate</th>\n",
       "      <th>SessionLengthMin</th>\n",
       "      <th>TotalPrompts</th>\n",
       "      <th>TaskType</th>\n",
       "      <th>AI_AssistanceLevel</th>\n",
       "      <th>FinalOutcome</th>\n",
       "      <th>UsedAgain</th>\n",
       "      <th>SatisfactionRating</th>\n",
       "    </tr>\n",
       "  </thead>\n",
       "  <tbody>\n",
       "    <tr>\n",
       "      <th>9963</th>\n",
       "      <td>SESSION09964</td>\n",
       "      <td>High School</td>\n",
       "      <td>Math</td>\n",
       "      <td>2024-12-14</td>\n",
       "      <td>12.62</td>\n",
       "      <td>3</td>\n",
       "      <td>Homework Help</td>\n",
       "      <td>4</td>\n",
       "      <td>Assignment Completed</td>\n",
       "      <td>True</td>\n",
       "      <td>3.4</td>\n",
       "    </tr>\n",
       "    <tr>\n",
       "      <th>7158</th>\n",
       "      <td>SESSION07159</td>\n",
       "      <td>High School</td>\n",
       "      <td>Biology</td>\n",
       "      <td>2024-09-11</td>\n",
       "      <td>44.01</td>\n",
       "      <td>9</td>\n",
       "      <td>Studying</td>\n",
       "      <td>2</td>\n",
       "      <td>Assignment Completed</td>\n",
       "      <td>True</td>\n",
       "      <td>2.5</td>\n",
       "    </tr>\n",
       "    <tr>\n",
       "      <th>2914</th>\n",
       "      <td>SESSION02915</td>\n",
       "      <td>Undergraduate</td>\n",
       "      <td>Engineering</td>\n",
       "      <td>2024-07-04</td>\n",
       "      <td>3.27</td>\n",
       "      <td>1</td>\n",
       "      <td>Writing</td>\n",
       "      <td>3</td>\n",
       "      <td>Assignment Completed</td>\n",
       "      <td>True</td>\n",
       "      <td>2.5</td>\n",
       "    </tr>\n",
       "    <tr>\n",
       "      <th>8414</th>\n",
       "      <td>SESSION08415</td>\n",
       "      <td>Undergraduate</td>\n",
       "      <td>History</td>\n",
       "      <td>2025-04-17</td>\n",
       "      <td>5.64</td>\n",
       "      <td>1</td>\n",
       "      <td>Writing</td>\n",
       "      <td>2</td>\n",
       "      <td>Confused</td>\n",
       "      <td>False</td>\n",
       "      <td>1.5</td>\n",
       "    </tr>\n",
       "    <tr>\n",
       "      <th>9250</th>\n",
       "      <td>SESSION09251</td>\n",
       "      <td>Undergraduate</td>\n",
       "      <td>Math</td>\n",
       "      <td>2024-08-02</td>\n",
       "      <td>11.39</td>\n",
       "      <td>2</td>\n",
       "      <td>Homework Help</td>\n",
       "      <td>5</td>\n",
       "      <td>Assignment Completed</td>\n",
       "      <td>True</td>\n",
       "      <td>5.0</td>\n",
       "    </tr>\n",
       "  </tbody>\n",
       "</table>\n",
       "</div>"
      ],
      "text/plain": [
       "         SessionID   StudentLevel   Discipline SessionDate  SessionLengthMin  \\\n",
       "9963  SESSION09964    High School         Math  2024-12-14             12.62   \n",
       "7158  SESSION07159    High School      Biology  2024-09-11             44.01   \n",
       "2914  SESSION02915  Undergraduate  Engineering  2024-07-04              3.27   \n",
       "8414  SESSION08415  Undergraduate      History  2025-04-17              5.64   \n",
       "9250  SESSION09251  Undergraduate         Math  2024-08-02             11.39   \n",
       "\n",
       "      TotalPrompts       TaskType  AI_AssistanceLevel          FinalOutcome  \\\n",
       "9963             3  Homework Help                   4  Assignment Completed   \n",
       "7158             9       Studying                   2  Assignment Completed   \n",
       "2914             1        Writing                   3  Assignment Completed   \n",
       "8414             1        Writing                   2              Confused   \n",
       "9250             2  Homework Help                   5  Assignment Completed   \n",
       "\n",
       "      UsedAgain  SatisfactionRating  \n",
       "9963       True                 3.4  \n",
       "7158       True                 2.5  \n",
       "2914       True                 2.5  \n",
       "8414      False                 1.5  \n",
       "9250       True                 5.0  "
      ]
     },
     "execution_count": 8,
     "metadata": {},
     "output_type": "execute_result"
    }
   ],
   "source": [
    "df.sample(5)\n"
   ]
  },
  {
   "cell_type": "code",
   "execution_count": 11,
   "id": "a292465d",
   "metadata": {},
   "outputs": [
    {
     "data": {
      "text/plain": [
       "(10000, 11)"
      ]
     },
     "execution_count": 11,
     "metadata": {},
     "output_type": "execute_result"
    }
   ],
   "source": [
    "df.shape\n"
   ]
  },
  {
   "cell_type": "code",
   "execution_count": 13,
   "id": "e616582a",
   "metadata": {},
   "outputs": [
    {
     "name": "stdout",
     "output_type": "stream",
     "text": [
      "Nuestro conjunto de datos presenta un total de 10000 filas y 11 columnas\n"
     ]
    }
   ],
   "source": [
    "print(f'Nuestro conjunto de datos presenta un total de {df.shape[0]} filas y {df.shape[1]} columnas')"
   ]
  },
  {
   "cell_type": "code",
   "execution_count": 14,
   "id": "c983e156",
   "metadata": {},
   "outputs": [
    {
     "name": "stdout",
     "output_type": "stream",
     "text": [
      "<class 'pandas.core.frame.DataFrame'>\n",
      "RangeIndex: 10000 entries, 0 to 9999\n",
      "Data columns (total 11 columns):\n",
      " #   Column              Non-Null Count  Dtype  \n",
      "---  ------              --------------  -----  \n",
      " 0   SessionID           10000 non-null  object \n",
      " 1   StudentLevel        10000 non-null  object \n",
      " 2   Discipline          10000 non-null  object \n",
      " 3   SessionDate         10000 non-null  object \n",
      " 4   SessionLengthMin    10000 non-null  float64\n",
      " 5   TotalPrompts        10000 non-null  int64  \n",
      " 6   TaskType            10000 non-null  object \n",
      " 7   AI_AssistanceLevel  10000 non-null  int64  \n",
      " 8   FinalOutcome        10000 non-null  object \n",
      " 9   UsedAgain           10000 non-null  bool   \n",
      " 10  SatisfactionRating  10000 non-null  float64\n",
      "dtypes: bool(1), float64(2), int64(2), object(6)\n",
      "memory usage: 791.1+ KB\n"
     ]
    }
   ],
   "source": [
    "df.info()"
   ]
  },
  {
   "cell_type": "code",
   "execution_count": 15,
   "id": "ca2463ce",
   "metadata": {},
   "outputs": [
    {
     "data": {
      "text/plain": [
       "SessionID             0.0\n",
       "StudentLevel          0.0\n",
       "Discipline            0.0\n",
       "SessionDate           0.0\n",
       "SessionLengthMin      0.0\n",
       "TotalPrompts          0.0\n",
       "TaskType              0.0\n",
       "AI_AssistanceLevel    0.0\n",
       "FinalOutcome          0.0\n",
       "UsedAgain             0.0\n",
       "SatisfactionRating    0.0\n",
       "dtype: float64"
      ]
     },
     "execution_count": 15,
     "metadata": {},
     "output_type": "execute_result"
    }
   ],
   "source": [
    "df.isnull().sum()/df.shape[0]*100"
   ]
  },
  {
   "cell_type": "code",
   "execution_count": 16,
   "id": "3da378f6",
   "metadata": {},
   "outputs": [
    {
     "data": {
      "text/plain": [
       "np.int64(0)"
      ]
     },
     "execution_count": 16,
     "metadata": {},
     "output_type": "execute_result"
    }
   ],
   "source": [
    "df.duplicated().sum() \n"
   ]
  },
  {
   "cell_type": "code",
   "execution_count": 19,
   "id": "e404d652",
   "metadata": {},
   "outputs": [
    {
     "data": {
      "text/plain": [
       "Index(['SessionID', 'StudentLevel', 'Discipline', 'SessionDate', 'TaskType',\n",
       "       'FinalOutcome'],\n",
       "      dtype='object')"
      ]
     },
     "execution_count": 19,
     "metadata": {},
     "output_type": "execute_result"
    }
   ],
   "source": [
    "df.select_dtypes(include= 'object').columns"
   ]
  },
  {
   "cell_type": "code",
   "execution_count": 20,
   "id": "ab3e8528",
   "metadata": {},
   "outputs": [
    {
     "name": "stdout",
     "output_type": "stream",
     "text": [
      "SESSIONID\n",
      "SessionID\n",
      "SESSION00001    1\n",
      "SESSION00002    1\n",
      "SESSION00003    1\n",
      "SESSION00004    1\n",
      "SESSION00005    1\n",
      "               ..\n",
      "SESSION09996    1\n",
      "SESSION09997    1\n",
      "SESSION09998    1\n",
      "SESSION09999    1\n",
      "SESSION10000    1\n",
      "Name: count, Length: 10000, dtype: int64\n",
      "--------\n",
      "STUDENTLEVEL\n",
      "StudentLevel\n",
      "Undergraduate    5978\n",
      "High School      2027\n",
      "Graduate         1995\n",
      "Name: count, dtype: int64\n",
      "--------\n",
      "DISCIPLINE\n",
      "Discipline\n",
      "Biology             1458\n",
      "Computer Science    1445\n",
      "Engineering         1430\n",
      "Math                1422\n",
      "Psychology          1418\n",
      "History             1417\n",
      "Business            1410\n",
      "Name: count, dtype: int64\n",
      "--------\n",
      "SESSIONDATE\n",
      "SessionDate\n",
      "2025-01-19    41\n",
      "2025-06-21    41\n",
      "2025-04-16    41\n",
      "2025-04-03    41\n",
      "2024-08-15    41\n",
      "              ..\n",
      "2024-12-22    17\n",
      "2025-04-02    17\n",
      "2024-12-30    16\n",
      "2024-09-24    15\n",
      "2024-12-28    15\n",
      "Name: count, Length: 366, dtype: int64\n",
      "--------\n",
      "TASKTYPE\n",
      "TaskType\n",
      "Writing          3101\n",
      "Studying         2040\n",
      "Homework Help    1959\n",
      "Coding           1948\n",
      "Brainstorming     476\n",
      "Research          476\n",
      "Name: count, dtype: int64\n",
      "--------\n",
      "FINALOUTCOME\n",
      "FinalOutcome\n",
      "Assignment Completed    4768\n",
      "Idea Drafted            2866\n",
      "Confused                1613\n",
      "Gave Up                  753\n",
      "Name: count, dtype: int64\n",
      "--------\n"
     ]
    }
   ],
   "source": [
    "for col in df.select_dtypes(include= 'object').columns:\n",
    "\n",
    "    print(col.upper())\n",
    "\n",
    "    print(df[col].value_counts())\n",
    "\n",
    "    print('--------')"
   ]
  },
  {
   "cell_type": "code",
   "execution_count": 30,
   "id": "67cc5e7d",
   "metadata": {},
   "outputs": [],
   "source": [
    "def eda_preliminar (df):\n",
    "\n",
    "    display(df.samples(5))\n",
    "\n",
    "    print('--------')\n",
    "\n",
    "    print('DIMENSIONES')\n",
    "\n",
    "    print(f'Nuestro conjunto de datos presenta un total de {df.shape[0]} filas y {df.shape[1]} columnas')\n",
    "\n",
    "    print('--------')\n",
    "    print('INFO')\n",
    "\n",
    "    display(df.info())\n",
    "\n",
    "    print('--------')\n",
    "    print('NULOS')\n",
    "\n",
    "    diplay(df.isnull().mean()*100)\n",
    "\n",
    "    print('--------')\n",
    "    print('DUPLICADOS')\n",
    "\n",
    "    print(f'Tenemos un total de {df.duplicated().sum()} duplicados')\n",
    "\n",
    "    print('--------')\n",
    "\n",
    "    print('FRECUENCIAS CATEGÓRICAS')\n",
    "     \n",
    "    for col in df.select_dtypes(include= 'object').columns:\n",
    "        print(col.upper())\n",
    "        print(df[col].value_counts())\n",
    "        print('--------')"
   ]
  },
  {
   "cell_type": "code",
   "execution_count": null,
   "id": "427e545b",
   "metadata": {},
   "outputs": [
    {
     "ename": "AttributeError",
     "evalue": "'DataFrame' object has no attribute 'samples'",
     "output_type": "error",
     "traceback": [
      "\u001b[31m---------------------------------------------------------------------------\u001b[39m",
      "\u001b[31mAttributeError\u001b[39m                            Traceback (most recent call last)",
      "\u001b[32m~\\AppData\\Local\\Temp\\ipykernel_3964\\3043804857.py\u001b[39m in \u001b[36m?\u001b[39m\u001b[34m()\u001b[39m\n\u001b[32m----> \u001b[39m\u001b[32m1\u001b[39m eda_preliminar(df)\n",
      "\u001b[32m~\\AppData\\Local\\Temp\\ipykernel_3964\\3743296683.py\u001b[39m in \u001b[36m?\u001b[39m\u001b[34m(df)\u001b[39m\n\u001b[32m      1\u001b[39m \u001b[38;5;28;01mdef\u001b[39;00m eda_preliminar (df):\n\u001b[32m      2\u001b[39m \n\u001b[32m----> \u001b[39m\u001b[32m3\u001b[39m     display(df.samples(\u001b[32m5\u001b[39m))\n\u001b[32m      4\u001b[39m \n\u001b[32m      5\u001b[39m     print(\u001b[33m'--------'\u001b[39m)\n\u001b[32m      6\u001b[39m \n",
      "\u001b[32mc:\\Users\\JuanPablo\\Documents\\Master_Data_Analytics\\_Proyectos\\03_Dashboard_excel\\Proyecto_Dashboard_excel\\Proyecto_IA_estudiantes\\Lib\\site-packages\\pandas\\core\\generic.py\u001b[39m in \u001b[36m?\u001b[39m\u001b[34m(self, name)\u001b[39m\n\u001b[32m   6314\u001b[39m             \u001b[38;5;28;01mand\u001b[39;00m name \u001b[38;5;28;01mnot\u001b[39;00m \u001b[38;5;28;01min\u001b[39;00m self._accessors\n\u001b[32m   6315\u001b[39m             \u001b[38;5;28;01mand\u001b[39;00m self._info_axis._can_hold_identifiers_and_holds_name(name)\n\u001b[32m   6316\u001b[39m         ):\n\u001b[32m   6317\u001b[39m             \u001b[38;5;28;01mreturn\u001b[39;00m self[name]\n\u001b[32m-> \u001b[39m\u001b[32m6318\u001b[39m         \u001b[38;5;28;01mreturn\u001b[39;00m object.__getattribute__(self, name)\n",
      "\u001b[31mAttributeError\u001b[39m: 'DataFrame' object has no attribute 'samples'"
     ]
    }
   ],
   "source": [
    "eda_preliminar(df)"
   ]
  }
 ],
 "metadata": {
  "kernelspec": {
   "display_name": "Proyecto_IA_estudiantes",
   "language": "python",
   "name": "python3"
  },
  "language_info": {
   "codemirror_mode": {
    "name": "ipython",
    "version": 3
   },
   "file_extension": ".py",
   "mimetype": "text/x-python",
   "name": "python",
   "nbconvert_exporter": "python",
   "pygments_lexer": "ipython3",
   "version": "3.13.3"
  }
 },
 "nbformat": 4,
 "nbformat_minor": 5
}
